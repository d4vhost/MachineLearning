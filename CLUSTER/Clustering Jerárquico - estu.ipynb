{
 "cells": [
  {
   "cell_type": "markdown",
   "metadata": {},
   "source": [
    "# Clustering Jerárquico\n",
    "\n"
   ]
  },
  {
   "attachments": {},
   "cell_type": "markdown",
   "metadata": {},
   "source": [
    "Como su nombre lo indica, el clustering Jerárquico construye una jerarquía de clusters para realizar el análisis y existen dos categorías para este tipo de clustering:\n",
    "\n",
    "* Aglomerante\n",
    "* Divisivo\n",
    "\n",
    "Para representar los resultados de la jerarquía de grupos se usa el dendograma que muestra las jerarquías de acuerdo a las distancias que existen entre los elementos del conjunto de datos, las cuales se pueden representar en una matriz de distancias.\n",
    "\n",
    "![Alt text](image-5.png)\n",
    "\n",
    "![Alt text](image-6.png)"
   ]
  },
  {
   "attachments": {},
   "cell_type": "markdown",
   "metadata": {},
   "source": [
    "## Clustering Jerárquico Aglomerante\n",
    "\n",
    "Es una aproximación de abajo hacia arriba (bottom-up) donde se dividen los clusters en subclusters y así sucesivamente.\n",
    "- Se inicia asignando cada muestra simple a un cluster y en cada iteración sucesiva va aglomerando (mezclando) el par de clusters más cercanos satisfaciendo algún criterio de similaridad, hasta que todos los elementos pertenecen a un solo cluster.\n",
    "- Los clusters generados en los primeros pasos son anidados con los clusters generados en los siguientes pasos.\n",
    "\n",
    "El proceso de cluster aglomerante es el siguiente:\n",
    "\n",
    "- Primero asigna cada elemento a un cluster\n",
    "- Después encuentra la matriz de distancias\n",
    "- Encuentra 2 clusters que tengan la distancia más corta y los mezcla\n",
    "- Continua este proceso hasta que se forma un solo cluster grande\n",
    "\n",
    "\n",
    "El siguiente diagrama muestra el proceso aglomerante\n",
    "\n",
    "![](007-02.png)"
   ]
  },
  {
   "attachments": {},
   "cell_type": "markdown",
   "metadata": {},
   "source": [
    "## Clustering Jerárquico Divisivo\n",
    "\n",
    "Este tipo de clustering se lleva a cabo con un enfoque de arriba hacia abajo (top-down).\n",
    "- Se inicia con todos los elementos asignado a un solo cluster y sigue el algoritmo hasta que cada elemento es un cluster individual.\n",
    "\n",
    "El siguiente diagrama muestra el proceso divisivo\n",
    "\n",
    "![](007-03.png)"
   ]
  },
  {
   "attachments": {},
   "cell_type": "markdown",
   "metadata": {},
   "source": [
    "Para ambos casos, la medida de distancia que se utiliza para generar los clusters es comúnmente la distancia euclidiana.\n",
    "- Se puede seleccionar otro método de acuerdo la relevancia del problema, pero, generalmente la distancia euclidiana es la más eficiente si no existen restricciones en el modelo."
   ]
  },
  {
   "attachments": {},
   "cell_type": "markdown",
   "metadata": {},
   "source": [
    "## Ejemplo\n",
    "\n",
    "Dataset: Clientes_Tienda.csv\n",
    "\n",
    "Contiene 200 registros de una tienda que ha calificado a sus clientes con una puntuación que va de 1 a 100 de acuerdo a su frecuencia de compra (gasto) y otras condiciones que ha utilizado dicha tienda para calificar a sus clientes con esa puntuación.\n",
    "- Información adicional sobre género, edad e ingreso anual en miles, de los cliente.\n",
    "- Sin embargo, para poder graficar los resultados sólo utilizaremos el ingreso anual y la puntuación para generar los grupos de clientes, y analizar dicho resultado con el enfoque aglomerante."
   ]
  },
  {
   "cell_type": "code",
   "execution_count": null,
   "metadata": {},
   "outputs": [],
   "source": []
  },
  {
   "cell_type": "markdown",
   "metadata": {},
   "source": [
    "Seleccionamos las variables"
   ]
  },
  {
   "cell_type": "code",
   "execution_count": null,
   "metadata": {},
   "outputs": [],
   "source": []
  },
  {
   "cell_type": "markdown",
   "metadata": {},
   "source": [
    "Para crear el dendograma utilizamos la clase `dendrogram` del paquete scipy.hierarchy\n",
    "- Que puede permitirnos determinar el número óptimo de cluster"
   ]
  },
  {
   "cell_type": "code",
   "execution_count": null,
   "metadata": {},
   "outputs": [],
   "source": []
  },
  {
   "attachments": {},
   "cell_type": "markdown",
   "metadata": {},
   "source": [
    "En el podemos observar que la distancia máxima, la marca la línea azul,  que une los clusters verde y rojo, por lo que si realizamos el corte en esa zona obtenemos:"
   ]
  },
  {
   "cell_type": "markdown",
   "metadata": {},
   "source": [
    "![](007-05.png)"
   ]
  },
  {
   "cell_type": "markdown",
   "metadata": {},
   "source": [
    "Al marcar con la línea color azul el dendograma donde observamos la distancia máxima, nos genera 5 clusters que hemos marcado con números.\n",
    "\n",
    "Con ello en mente, generamos los grupos con el método aglomerante utilizando la clase AgglomerativeClustering del paquete sklearn.cluster"
   ]
  },
  {
   "cell_type": "code",
   "execution_count": null,
   "metadata": {},
   "outputs": [],
   "source": []
  },
  {
   "cell_type": "markdown",
   "metadata": {},
   "source": [
    "- En la variable `y_hc` se guardan los grupos asignados a cada cliente o renglón del conjunto de datos.\n",
    "- En ese vector podemos observar los 5 grupos que van de 0 a 4"
   ]
  },
  {
   "cell_type": "code",
   "execution_count": null,
   "metadata": {},
   "outputs": [],
   "source": []
  },
  {
   "cell_type": "markdown",
   "metadata": {},
   "source": [
    "Para poder observar gráficamente la asignación de los 200 clientes a 5 grupos o clusters realizamos lo siguiente:"
   ]
  },
  {
   "cell_type": "code",
   "execution_count": null,
   "metadata": {},
   "outputs": [],
   "source": []
  },
  {
   "attachments": {},
   "cell_type": "markdown",
   "metadata": {},
   "source": [
    "#### Conclusiones\n",
    "\n",
    "- El grupo de clientes en color verde, lo cuales tienen ingresos altos y una puntuación alta, por lo que podrían ser un grupo objetivo para ciertas promociones.\n",
    "- En purpura tenemos a los clientes de baja puntuación y bajos ingresos.\n",
    "- Mientras que en celeste, a los clientes con ingresos bajos pero con alta puntuación, lo cual podría indicar que estos clientes compran mucho a pesar de los ingresos bajos."
   ]
  },
  {
   "cell_type": "markdown",
   "metadata": {},
   "source": [
    "Caracteristicas de cada grupo"
   ]
  }
 ],
 "metadata": {
  "kernelspec": {
   "display_name": "Python 3",
   "language": "python",
   "name": "python3"
  },
  "language_info": {
   "codemirror_mode": {
    "name": "ipython",
    "version": 3
   },
   "file_extension": ".py",
   "mimetype": "text/x-python",
   "name": "python",
   "nbconvert_exporter": "python",
   "pygments_lexer": "ipython3",
   "version": "3.13.7"
  }
 },
 "nbformat": 4,
 "nbformat_minor": 4
}
