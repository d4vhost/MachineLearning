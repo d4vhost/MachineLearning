{
 "cells": [
  {
   "cell_type": "markdown",
   "metadata": {},
   "source": [
    "# k-Means Clustering\n"
   ]
  },
  {
   "cell_type": "markdown",
   "metadata": {},
   "source": [
    "El método k-Medias es un método no jerárquico basado en centroides, robusto y fácil de implementar, en donde se requiere especificar previamente el número de grupos que se van a generar y a los cuales se van a asignar los datos.\n",
    "\n",
    "Adicionalmente, este tipo de métodos son recomendados para grandes cantidades de datos.\n",
    "\n",
    "El algoritmo funciona de la siguiente manera: supongamos que tenemos el siguiente conjunto de datos.\n",
    "\n",
    "![](008-01.png)"
   ]
  },
  {
   "cell_type": "markdown",
   "metadata": {},
   "source": [
    "Al aplicar el algoritmo, deberemos obtener el siguiente resultado:\n",
    "\n",
    "![](008-02.png) "
   ]
  },
  {
   "cell_type": "markdown",
   "metadata": {},
   "source": [
    "Para llegar a ello, el procedimiento que sigue el algoritmo es el siguiente:\n",
    "\n",
    "Algoritmo k-Means\n",
    "\n",
    "1. Seleccionar el número de k grupos (clusters)\n",
    "2. Generar aleatoriamente k puntos que llamaremos centroides\n",
    "3. Asignar cada elemento del conjunto de datos al centroide más cercano para formar k grupos\n",
    "4. Reasignar la posición de cada centroide\n",
    "5. Reasignar los elementos de datos al centroide más cercano nuevamente\n",
    "   - 5.1 Si hubo elementos que se asignaron a un centroide distinto al original, regresar al paso 4, de lo contrario, el proceso ha terminado\n",
    "   \n",
    "   \n",
    "Para entender de manera clara el algoritmo anterior, vayamos paso a paso describiéndolo gráficamente:\n",
    "\n",
    "![](008-03.png) "
   ]
  },
  {
   "cell_type": "markdown",
   "metadata": {},
   "source": [
    "Para este conjunto de datos, digamos que k es igual a 2. (Más adelante veremos como seleccionar k).\n",
    "![](008-04.png)"
   ]
  },
  {
   "cell_type": "markdown",
   "metadata": {},
   "source": [
    "Los puntos azul y rojo representan los dos centroides ubicados aleatoriamente en el espacio del conjunto de datos.\n",
    "\n",
    "![](008-05.png)"
   ]
  },
  {
   "attachments": {},
   "cell_type": "markdown",
   "metadata": {},
   "source": [
    "Cada elemento quedó asignado al centroide más cercano a el y de esta manera se forma los k = 2 grupos o clusters, ahora el siguiente paso:\n",
    "\n",
    "![](008-06.png)\n",
    "\n",
    "-\n",
    "\n",
    "![](008-07.png)"
   ]
  },
  {
   "attachments": {},
   "cell_type": "markdown",
   "metadata": {},
   "source": [
    "Como se observa, hay elementos azules que ahora están más cercanos al centroide rojo y un elemento rojo del lado de la frontera del centroide azul, por lo que esos elementos serán reasignados.\n",
    "\n",
    "__5.1 Si hubo elementos que se asignaron a un centriode distinto del original, regresamos al paso 4.__\n",
    "\n",
    "Dado que si hubo elementos reasignados, volvemos al paso 4 y cambiamos la posición de los centroides\n",
    "\n",
    "![](008-08.png)"
   ]
  },
  {
   "attachments": {},
   "cell_type": "markdown",
   "metadata": {},
   "source": [
    "Paso 5 nuevamente y reasignamos\n",
    "\n",
    "![](008-09.png)"
   ]
  },
  {
   "cell_type": "markdown",
   "metadata": {},
   "source": [
    "Regresamos al paso 4 nuevamente\n",
    "\n",
    "![](008-10.png)"
   ]
  },
  {
   "attachments": {},
   "cell_type": "markdown",
   "metadata": {},
   "source": [
    "y el algoritmo continua entre el paso 4 y 5 hasta que ya no haya elementos que se tengan que reasignado de cluster\n",
    "\n",
    "![](008-11.png)"
   ]
  },
  {
   "attachments": {},
   "cell_type": "markdown",
   "metadata": {},
   "source": [
    "Cuando ya no hay elementos que cambiaron de cluster, el modelo ha terminado y tenemos los dos clusters con sus respectivos elementos de la muestra de datos.\n",
    "\n",
    "![](008-12.png)"
   ]
  },
  {
   "attachments": {},
   "cell_type": "markdown",
   "metadata": {},
   "source": [
    "Dado que los centroides no son parte del conjunto de datos, estos no se toman en cuenta.\n",
    "\n",
    "![](008-13.png)"
   ]
  },
  {
   "attachments": {},
   "cell_type": "markdown",
   "metadata": {},
   "source": [
    "Como se puede intuir, la posición inicial de los centroides puede influir en la agrupación final de todos elementos y esto generar más de una solución para la misma cantidad de clusters\n",
    "\n",
    "Por ejemplo, para un mismo conjunto de datos, podríamos tener dos o más agrupar los elementos de datos, dependiendo de la posición inicial de los centroides. En la siguiente imagen comparativa, tenemos k = 3 y dos opciones finales para el mismo conjunto de datos:\n",
    "\n",
    "![](008-14.png)"
   ]
  },
  {
   "attachments": {},
   "cell_type": "markdown",
   "metadata": {},
   "source": [
    "___Esta ambigüedad se resuelve con una pequeña modificación al algoritmo k-Means que lo convierte en `k-Means++`___\n",
    "\n",
    "\n",
    "__`Selección del número correcto de clusters k`__\n",
    "\n",
    "\n",
    "Para determinar el número óptimo de clusters que se pueden tener en una muestra de datos, existen varios métodos prácticos tanto formales como gráficos que se pueden utilizar, pero una de las técnicas más comunes y robustas, es el __método del codo__.\n",
    "\n",
    "El método del codo se basa en la suma de los cuadrados de las distancias de cada elemento de datos con su centroide correspondiente y se denota de la siguiente manera:\n",
    "\n",
    "$$WCSS = \\sum_{i\\epsilon n}(X_i - Y_i)^2$$\n",
    "\n",
    "Donde WCSS es la suma de los cuadrados de las distancias y se refiere a Within-Cluster-Sum-of-Squares, Yi es el centroide del elemento o dato Xi y n el total de datos en la muestra.\n",
    "\n",
    "El proceso se lleva a cabo iniciando con un solo cluster para todos los elementos de la muestra y se obtiene la suma de todas las distancia de cada elemento con el centroide, posteriormente se crean dos centroides y se suman los elementos más cercanos a cada uno de los centroides para sumar las distancias de cada elemento con su centroide correspondiente. El proceso se repite para 3, 4, 5 … n centroides. Cuando el número de centroides es igual a la cantidad de datos de la muestra (n), las distancias son cero, dado que cada elemento es un centroide.\n",
    "\n",
    "![](008-15.png)\n",
    "\n",
    "\n",
    "La suma de las distancias para un centroide\n",
    "\n",
    "![](008-16.png)\n",
    "\n",
    "\n",
    "La suma de las distancias para dos centroides\n",
    "\n",
    "![](008-17.png)\n",
    "\n"
   ]
  },
  {
   "attachments": {},
   "cell_type": "markdown",
   "metadata": {},
   "source": [
    "La suma de las distancias para tres centroides.\n",
    "\n",
    "\n",
    "Cada uno de estos valores de WCSS para cada caso, es decir, 1 centroide, 2 centroides, etc. se grafica y obtenemos una gráfica similar a la siguiente:\n",
    "\n",
    "![](008-18.png)"
   ]
  },
  {
   "attachments": {},
   "cell_type": "markdown",
   "metadata": {},
   "source": [
    "En este ejemplo se realizó el cálculo de la suma de las distancias para 1 a 10 clusters y/o centroides.\n",
    "\n",
    "El la gráfica se observa que la suma de las distancias disminuye conforme aumenta el número de clusters y esa disminución se va atenuando conforme aumentan los número de clusters. El punto en donde se hace un codo y el cambio en el valor de la suma de las distancias se reduce significativamente, es el valor que nos indica el número óptimo de clusters que deberá tener la muestra. En este caso el punto óptimo es 3.\n",
    "\n",
    "![](008-19.png)\n"
   ]
  },
  {
   "cell_type": "markdown",
   "metadata": {},
   "source": [
    "Para generar la gráfica, no es necesario genera los n centroides, cuando n es el número de muestras en el conjunto de datos, un valor estimado que permita visualizar la gráfica con el codo será suficiente para determinar ese número óptimo para los clusters que generará el método k-Means."
   ]
  },
  {
   "cell_type": "markdown",
   "metadata": {},
   "source": [
    "### Ejemplo\n",
    "\n",
    "\n",
    "Para este ejemplo, utilizaremos una muestra de 200 datos de una tienda que ha calificado a sus clientes con una puntuación que va de 1 a 100 de acuerdo a su frecuencia de compra y otras condiciones que ha utilizado dicha tienda para calificar a sus clientes con esa puntuación. En el conjunto de datos tenemos información sobre el género, la edad y el ingreso anual en miles del cliente. Sin embargo, para poder graficar los resultados sólo utilizaremos el ingreso anual y la puntuación para generar los grupos de clientes que existen en esta muestra y analizar dicho resultado.\n"
   ]
  },
  {
   "cell_type": "code",
   "execution_count": 38,
   "metadata": {},
   "outputs": [],
   "source": [
    "# K-Means Clustering\n",
    "\n",
    "import numpy as np\n",
    "import matplotlib.pyplot as plt\n",
    "import pandas as pd"
   ]
  }
 ],
 "metadata": {
  "kernelspec": {
   "display_name": "Python 3",
   "language": "python",
   "name": "python3"
  },
  "language_info": {
   "codemirror_mode": {
    "name": "ipython",
    "version": 3
   },
   "file_extension": ".py",
   "mimetype": "text/x-python",
   "name": "python",
   "nbconvert_exporter": "python",
   "pygments_lexer": "ipython3",
   "version": "3.13.7"
  }
 },
 "nbformat": 4,
 "nbformat_minor": 4
}
