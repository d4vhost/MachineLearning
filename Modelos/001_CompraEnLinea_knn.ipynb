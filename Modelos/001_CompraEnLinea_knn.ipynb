{
 "cells": [
  {
   "cell_type": "code",
   "execution_count": 1,
   "id": "33ccc804",
   "metadata": {},
   "outputs": [],
   "source": [
    "import pandas as pd\n",
    "import numpy as np\n",
    "import matplotlib.pyplot as plt\n",
    "from sklearn.model_selection import train_test_split\n",
    "from sklearn.preprocessing import StandardScaler\n",
    "from sklearn.neighbors import KNeighborsClassifier\n",
    "from sklearn.metrics import f1_score\n",
    "from sklearn.metrics import confusion_matrix\n",
    "from sklearn.metrics import accuracy_score"
   ]
  },
  {
   "cell_type": "code",
   "execution_count": 2,
   "id": "1fc13e7a",
   "metadata": {},
   "outputs": [
    {
     "data": {
      "text/html": [
       "<div>\n",
       "<style scoped>\n",
       "    .dataframe tbody tr th:only-of-type {\n",
       "        vertical-align: middle;\n",
       "    }\n",
       "\n",
       "    .dataframe tbody tr th {\n",
       "        vertical-align: top;\n",
       "    }\n",
       "\n",
       "    .dataframe thead th {\n",
       "        text-align: right;\n",
       "    }\n",
       "</style>\n",
       "<table border=\"1\" class=\"dataframe\">\n",
       "  <thead>\n",
       "    <tr style=\"text-align: right;\">\n",
       "      <th></th>\n",
       "      <th>User ID</th>\n",
       "      <th>Género</th>\n",
       "      <th>Edad</th>\n",
       "      <th>Salario</th>\n",
       "      <th>Compro</th>\n",
       "    </tr>\n",
       "  </thead>\n",
       "  <tbody>\n",
       "    <tr>\n",
       "      <th>0</th>\n",
       "      <td>15624510</td>\n",
       "      <td>Male</td>\n",
       "      <td>19</td>\n",
       "      <td>19000</td>\n",
       "      <td>0</td>\n",
       "    </tr>\n",
       "    <tr>\n",
       "      <th>1</th>\n",
       "      <td>15810944</td>\n",
       "      <td>Male</td>\n",
       "      <td>35</td>\n",
       "      <td>20000</td>\n",
       "      <td>0</td>\n",
       "    </tr>\n",
       "    <tr>\n",
       "      <th>2</th>\n",
       "      <td>15668575</td>\n",
       "      <td>Female</td>\n",
       "      <td>26</td>\n",
       "      <td>43000</td>\n",
       "      <td>0</td>\n",
       "    </tr>\n",
       "    <tr>\n",
       "      <th>3</th>\n",
       "      <td>15603246</td>\n",
       "      <td>Female</td>\n",
       "      <td>27</td>\n",
       "      <td>57000</td>\n",
       "      <td>0</td>\n",
       "    </tr>\n",
       "    <tr>\n",
       "      <th>4</th>\n",
       "      <td>15804002</td>\n",
       "      <td>Male</td>\n",
       "      <td>19</td>\n",
       "      <td>76000</td>\n",
       "      <td>0</td>\n",
       "    </tr>\n",
       "  </tbody>\n",
       "</table>\n",
       "</div>"
      ],
      "text/plain": [
       "    User ID  Género  Edad  Salario  Compro\n",
       "0  15624510    Male    19    19000       0\n",
       "1  15810944    Male    35    20000       0\n",
       "2  15668575  Female    26    43000       0\n",
       "3  15603246  Female    27    57000       0\n",
       "4  15804002    Male    19    76000       0"
      ]
     },
     "execution_count": 2,
     "metadata": {},
     "output_type": "execute_result"
    }
   ],
   "source": [
    "ds = pd.read_csv('../MyPython/dataset/compra_en_linea.csv', sep=';')\n",
    "ds.head()"
   ]
  },
  {
   "cell_type": "code",
   "execution_count": 3,
   "id": "dac3c184",
   "metadata": {},
   "outputs": [
    {
     "data": {
      "text/plain": [
       "User ID    0\n",
       "Género     0\n",
       "Edad       0\n",
       "Salario    0\n",
       "Compro     0\n",
       "dtype: int64"
      ]
     },
     "execution_count": 3,
     "metadata": {},
     "output_type": "execute_result"
    }
   ],
   "source": [
    "ds.isna().sum()"
   ]
  },
  {
   "cell_type": "code",
   "execution_count": 4,
   "id": "ffbd82b0",
   "metadata": {},
   "outputs": [
    {
     "name": "stdout",
     "output_type": "stream",
     "text": [
      "\n",
      "Primeras 5 filas de X (Edad, Salario):\n",
      " [[   19 19000]\n",
      " [   35 20000]\n",
      " [   26 43000]\n",
      " [   27 57000]\n",
      " [   19 76000]]\n",
      "\n",
      "Primeras 5 filas de y (Compro):\n",
      " [0 0 0 0 0]\n"
     ]
    }
   ],
   "source": [
    "X = ds.iloc[:, [2, 3]].values  \n",
    "y = ds.iloc[:, 4].values      \n",
    "\n",
    "print(\"\\nPrimeras 5 filas de X (Edad, Salario):\\n\", X[:5])\n",
    "print(\"\\nPrimeras 5 filas de y (Compro):\\n\", y[:5])"
   ]
  },
  {
   "cell_type": "code",
   "execution_count": 5,
   "id": "5cf1b95a",
   "metadata": {},
   "outputs": [
    {
     "name": "stdout",
     "output_type": "stream",
     "text": [
      "\n",
      "Tamaño del conjunto de entrenamiento X_train: 300\n",
      "Tamaño del conjunto de prueba X_test: 100\n"
     ]
    }
   ],
   "source": [
    "# Dividir el dataset en conjunto de entrenamiento y conjunto de prueba\n",
    "X_train, X_test, y_train, y_test = train_test_split(X, y, test_size = 0.25, random_state = 0)\n",
    "\n",
    "print(\"\\nTamaño del conjunto de entrenamiento X_train:\", len(X_train))\n",
    "print(\"Tamaño del conjunto de prueba X_test:\", len(X_test))"
   ]
  },
  {
   "cell_type": "code",
   "execution_count": 6,
   "id": "97831dfa",
   "metadata": {},
   "outputs": [
    {
     "name": "stdout",
     "output_type": "stream",
     "text": [
      "\n",
      "Primeras 5 filas de X_train escalado:\n",
      " [[ 0.58164944 -0.88670699]\n",
      " [-0.60673761  1.46173768]\n",
      " [-0.01254409 -0.5677824 ]\n",
      " [-0.60673761  1.89663484]\n",
      " [ 1.37390747 -1.40858358]]\n"
     ]
    }
   ],
   "source": [
    "# Escalado de características\n",
    "sc = StandardScaler()\n",
    "X_train = sc.fit_transform(X_train)\n",
    "X_test = sc.transform(X_test)\n",
    "\n",
    "print(\"\\nPrimeras 5 filas de X_train escalado:\\n\", X_train[:5])"
   ]
  },
  {
   "cell_type": "code",
   "execution_count": 7,
   "id": "3c352a71",
   "metadata": {},
   "outputs": [
    {
     "name": "stdout",
     "output_type": "stream",
     "text": [
      "\n",
      "Modelo KNN entrenado exitosamente.\n"
     ]
    }
   ],
   "source": [
    "# n_neighbors es 'K', p=2 indica Distancia Euclidiana\n",
    "classifier = KNeighborsClassifier(n_neighbors = 5, metric = 'minkowski', p = 2)\n",
    "classifier.fit(X_train, y_train)\n",
    "\n",
    "print(\"\\nModelo KNN entrenado exitosamente.\")"
   ]
  },
  {
   "cell_type": "code",
   "execution_count": 8,
   "id": "12772fda",
   "metadata": {},
   "outputs": [
    {
     "name": "stdout",
     "output_type": "stream",
     "text": [
      "\n",
      "Primeras 5 predicciones (y_pred) vs. Valores Reales (y_test):\n",
      "Predicciones: [0 0 0 0 0]\n",
      "Reales:       [0 0 0 0 0]\n"
     ]
    }
   ],
   "source": [
    "# Predicción de los resultados con el conjunto de prueba\n",
    "y_pred = classifier.predict(X_test)\n",
    "\n",
    "print(\"\\nPrimeras 5 predicciones (y_pred) vs. Valores Reales (y_test):\")\n",
    "print(\"Predicciones:\", y_pred[:5])\n",
    "print(\"Reales:      \", y_test[:5])"
   ]
  },
  {
   "cell_type": "code",
   "execution_count": 9,
   "id": "8d6664c7",
   "metadata": {},
   "outputs": [
    {
     "name": "stdout",
     "output_type": "stream",
     "text": [
      "\n",
      "Matriz de Confusión:\n",
      " [[64  4]\n",
      " [ 3 29]]\n"
     ]
    }
   ],
   "source": [
    "# Crear la Matriz de Confusión\n",
    "cm = confusion_matrix(y_test, y_pred)\n",
    "print(\"\\nMatriz de Confusión:\\n\", cm)\n",
    "\n",
    "# Explicación:\n",
    "# cm[0, 0]: Verdaderos Negativos (Predijo 0 y el valor real fue 0)\n",
    "# cm[0, 1]: Falsos Positivos (Predijo 1 y el valor real fue 0)\n",
    "# cm[1, 0]: Falsos Negativos (Predijo 0 y el valor real fue 1)\n",
    "# cm[1, 1]: Verdaderos Positivos (Predijo 1 y el valor real fue 1)"
   ]
  },
  {
   "cell_type": "code",
   "execution_count": 10,
   "id": "34aecf6f",
   "metadata": {},
   "outputs": [
    {
     "name": "stdout",
     "output_type": "stream",
     "text": [
      "\n",
      "Precisión (Accuracy) del modelo: 0.9300\n",
      "Puntaje F1 del modelo: 0.8923\n"
     ]
    }
   ],
   "source": [
    "# Calcular la Precisión (Accuracy)\n",
    "accuracy = accuracy_score(y_test, y_pred)\n",
    "print(f\"\\nPrecisión (Accuracy) del modelo: {accuracy:.4f}\")\n",
    "\n",
    "# Calcular el Puntaje F1 (F1-Score)\n",
    "f1 = f1_score(y_test, y_pred)\n",
    "print(f\"Puntaje F1 del modelo: {f1:.4f}\")"
   ]
  },
  {
   "cell_type": "code",
   "execution_count": 11,
   "id": "32e76ed2",
   "metadata": {},
   "outputs": [
    {
     "name": "stderr",
     "output_type": "stream",
     "text": [
      "C:\\Users\\d4vho\\AppData\\Local\\Temp\\ipykernel_26064\\1405568318.py:17: UserWarning: *c* argument looks like a single numeric RGB or RGBA sequence, which should be avoided as value-mapping will have precedence in case its length matches with *x* & *y*.  Please use the *color* keyword-argument or provide a 2D array with a single row if you intend to specify the same RGB or RGBA value for all points.\n",
      "  plt.scatter(X_set_test[y_set_test == j, 0], X_set_test[y_set_test == j, 1],\n"
     ]
    },
    {
     "data": {
      "image/png": "[encoded data removed]",
      "text/plain": [
       "<Figure size 640x480 with 1 Axes>"
      ]
     },
     "metadata": {},
     "output_type": "display_data"
    }
   ],
   "source": [
    "# 11. Visualización de los Límites de Decisión \n",
    "\n",
    "from matplotlib.colors import ListedColormap\n",
    "import matplotlib.pyplot as plt\n",
    "X_set_test, y_set_test = X_test, y_test\n",
    "\n",
    "X1, X2 = np.meshgrid(np.arange(start = X_set_test[:, 0].min() - 1, stop = X_set_test[:, 0].max() + 1, step = 0.01),\n",
    "                     np.arange(start = X_set_test[:, 1].min() - 1, stop = X_set_test[:, 1].max() + 1, step = 0.01))\n",
    "\n",
    "plt.contourf(X1, X2, classifier.predict(np.array([X1.ravel(), X2.ravel()]).T).reshape(X1.shape),\n",
    "             alpha = 0.75, cmap = ListedColormap(('cornflowerblue', 'orange')))\n",
    "\n",
    "plt.xlim(X1.min(), X1.max())\n",
    "plt.ylim(X2.min(), X2.max())\n",
    "\n",
    "for i, j in enumerate(np.unique(y_set_test)):\n",
    "    plt.scatter(X_set_test[y_set_test == j, 0], X_set_test[y_set_test == j, 1],\n",
    "                c = ListedColormap(('darkblue', 'darkorange'))(i), \n",
    "                label = j, s=20, edgecolor='k', linewidth=0.5)\n",
    "\n",
    "plt.title('KNN (K=5) - Conjunto de Prueba (Test Set)')\n",
    "plt.xlabel('Edad (escalada)')\n",
    "plt.ylabel('Salario (escalado)')\n",
    "plt.legend()\n",
    "plt.grid(True, linestyle='--', alpha=0.6)\n",
    "plt.show()"
   ]
  }
 ],
 "metadata": {
  "kernelspec": {
   "display_name": ".venv",
   "language": "python",
   "name": "python3"
  },
  "language_info": {
   "codemirror_mode": {
    "name": "ipython",
    "version": 3
   },
   "file_extension": ".py",
   "mimetype": "text/x-python",
   "name": "python",
   "nbconvert_exporter": "python",
   "pygments_lexer": "ipython3",
   "version": "3.13.7"
  }
 },
 "nbformat": 4,
 "nbformat_minor": 5
}
