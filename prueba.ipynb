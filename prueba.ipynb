{
 "cells": [
  {
   "cell_type": "markdown",
   "id": "665a27aa",
   "metadata": {},
   "source": [
    "# Primer Programa\n",
    "## Segunda linea\n",
    "\n",
    "\n",
    "**Hola**\n",
    "\n",
    "\n",
    "- uno\n",
    "    - uno +\n",
    "- dos\n",
    "\n",
    "$$ E = m_i * C^2$$"
   ]
  },
  {
   "cell_type": "code",
   "execution_count": 10,
   "id": "6b30322c",
   "metadata": {},
   "outputs": [
    {
     "data": {
      "text/plain": [
       "4"
      ]
     },
     "execution_count": 10,
     "metadata": {},
     "output_type": "execute_result"
    }
   ],
   "source": [
    "2 + 2\n"
   ]
  },
  {
   "cell_type": "code",
   "execution_count": 11,
   "id": "1d7265d1",
   "metadata": {},
   "outputs": [
    {
     "name": "stdout",
     "output_type": "stream",
     "text": [
      "texto texto 2\n"
     ]
    }
   ],
   "source": [
    "print(\"texto\", \"texto 2\")"
   ]
  }
 ],
 "metadata": {
  "kernelspec": {
   "display_name": ".venv",
   "language": "python",
   "name": "python3"
  },
  "language_info": {
   "codemirror_mode": {
    "name": "ipython",
    "version": 3
   },
   "file_extension": ".py",
   "mimetype": "text/x-python",
   "name": "python",
   "nbconvert_exporter": "python",
   "pygments_lexer": "ipython3",
   "version": "3.13.7"
  }
 },
 "nbformat": 4,
 "nbformat_minor": 5
}
