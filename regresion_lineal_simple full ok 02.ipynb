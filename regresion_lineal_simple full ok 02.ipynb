{
 "cells": [
  {
   "cell_type": "markdown",
   "id": "efb99abe-04d1-4d12-be0b-9f46456c6867",
   "metadata": {},
   "source": [
    "# Regresión Lineal"
   ]
  },
  {
   "cell_type": "markdown",
   "id": "e6a0040b",
   "metadata": {},
   "source": [
    "Emplearemos el dataset `Peso y Consumo.xlsx`, en el cual la variable independiente representa el peso en Kg de un auto y la variable dependiente el consumo de gasolina x cada 100 Km.\n",
    "\n",
    "Se trata de crear un modelo que permita estimar el consumo que tendrá un vehículo en función de su peso."
   ]
  },
  {
   "cell_type": "code",
   "execution_count": 1,
   "id": "5d63da72",
   "metadata": {},
   "outputs": [],
   "source": [
    "# #* Librerías a emplear\n",
    "# #*--------------------------------------------------\n",
    "import pandas as pd\n",
    "import numpy as np\n",
    "import matplotlib.pyplot as plt\n",
    "import seaborn as sns\n",
    "# #* --------------------------------------------------\n",
    "# #* Modelo de regresión Lineal\n",
    "# #* ---------------------------------------------------\n",
    "from sklearn.model_selection import train_test_split as tts\n",
    "from sklearn.linear_model import LinearRegression\n",
    "from sklearn.metrics import r2_score\n",
    "from sklearn.metrics import mean_squared_error\n",
    "# #*---------------------------------------------------\n",
    "# #* StatModel - OLS - Mínimos cuadrados ordinarios\n",
    "# #*----------------------------------------------------\n",
    "import statsmodels.api as sm\n",
    "import statsmodels.formula.api as smf\n",
    "# #*-------------------------------------------------\n",
    "# #* Estandarizacion y escalado de predictores\n",
    "# #*-------------------------------------------------\n",
    "from sklearn.preprocessing import StandardScaler\n",
    "# #*-------------------------------------------------\n",
    "# #* Configuracion del tamanio de los graficos\n",
    "# #*-------------------------------------------------\n",
    "plt.rcParams[\"figure.figsize\"] = (8, 5)"
   ]
  },
  {
   "cell_type": "code",
   "execution_count": 2,
   "id": "aeb6e425",
   "metadata": {},
   "outputs": [],
   "source": [
    "# #* Crea un dataframe de residuos\n",
    "\n",
    "def crear_dat(x,labelx,y,labely,y_pred):\n",
    "    dat = pd.DataFrame()\n",
    "    dat[labelx] = x\n",
    "    dat[labely] = y\n",
    "    dat['Estimacion'] = y_pred   \n",
    "    dat['Variacion'] = dat[labely] - dat['Estimacion']\n",
    "    return dat\n",
    "\n",
    "# #* Grafica los residuos\n",
    "\n",
    "def grafica_error(y, y_pred):\n",
    "    x1 = np.arange(len(y_pred))\n",
    "    plt.scatter(x1, (y - y_pred), color='crimson')\n",
    "    R2s = mean_squared_error(y, y_pred)\n",
    "    print('MSE:', R2s)\n",
    "    plt.plot([0,len(y_pred)],[R2s,R2s], color='green', ls='--')\n",
    "    plt.plot([0,len(y_pred)],[-R2s,-R2s], color='green', ls='--')\n",
    "    plt.plot([0,len(y_pred)],[0,0], 'b-')\n",
    "    plt.title('Gráfica de residuos (MSE - Error cuadrático medio - $\\\\hat R^2_S$)')\n",
    "    plt.xlabel('Instancias')\n",
    "    plt.ylabel('Error');\n",
    "\n",
    "def linea_ajuste(x,xlabel,y,ylabel,grado):\n",
    "    plt.rcParams[\"figure.figsize\"] = (8, 5)\n",
    "    x1 = x[xlabel].values\n",
    "    y1 = y[ylabel].values \n",
    "    modelo = np.poly1d(np.polyfit(x1,y1,grado))\n",
    "    linea = np.linspace(min(x1), max(x1))\n",
    "    plt.scatter(x1,y1, c='blue')\n",
    "    plt.plot(linea, modelo(linea), 'crimson')\n",
    "    plt.xlabel(xlabel)\n",
    "    plt.ylabel(ylabel)\n",
    "    r2 = r2_score(y1, modelo(x1))\n",
    "    print('Exactitud del modelo: ', r2)"
   ]
  },
  {
   "cell_type": "code",
   "execution_count": 3,
   "id": "5cbf27f4",
   "metadata": {},
   "outputs": [
    {
     "data": {
      "text/html": [
       "<div>\n",
       "<style scoped>\n",
       "    .dataframe tbody tr th:only-of-type {\n",
       "        vertical-align: middle;\n",
       "    }\n",
       "\n",
       "    .dataframe tbody tr th {\n",
       "        vertical-align: top;\n",
       "    }\n",
       "\n",
       "    .dataframe thead th {\n",
       "        text-align: right;\n",
       "    }\n",
       "</style>\n",
       "<table border=\"1\" class=\"dataframe\">\n",
       "  <thead>\n",
       "    <tr style=\"text-align: right;\">\n",
       "      <th></th>\n",
       "      <th>Peso</th>\n",
       "      <th>Consumo</th>\n",
       "    </tr>\n",
       "  </thead>\n",
       "  <tbody>\n",
       "    <tr>\n",
       "      <th>0</th>\n",
       "      <td>981</td>\n",
       "      <td>11</td>\n",
       "    </tr>\n",
       "    <tr>\n",
       "      <th>1</th>\n",
       "      <td>878</td>\n",
       "      <td>12</td>\n",
       "    </tr>\n",
       "    <tr>\n",
       "      <th>2</th>\n",
       "      <td>708</td>\n",
       "      <td>8</td>\n",
       "    </tr>\n",
       "    <tr>\n",
       "      <th>3</th>\n",
       "      <td>1138</td>\n",
       "      <td>11</td>\n",
       "    </tr>\n",
       "    <tr>\n",
       "      <th>4</th>\n",
       "      <td>1064</td>\n",
       "      <td>13</td>\n",
       "    </tr>\n",
       "  </tbody>\n",
       "</table>\n",
       "</div>"
      ],
      "text/plain": [
       "   Peso  Consumo\n",
       "0   981       11\n",
       "1   878       12\n",
       "2   708        8\n",
       "3  1138       11\n",
       "4  1064       13"
      ]
     },
     "execution_count": 3,
     "metadata": {},
     "output_type": "execute_result"
    }
   ],
   "source": [
    "#cargamos los datos\n",
    "\n",
    "datos = pd.read_excel(\"../MyPython/dataset/Peso y Consumo.xlsx\")\n",
    "\n",
    "datos = datos.drop(\"No\", axis=1)\n",
    "\n",
    "datos.columns = ['Peso', 'Consumo']\n",
    "\n",
    "datos.head()"
   ]
  },
  {
   "cell_type": "code",
   "execution_count": 4,
   "id": "72c32b10",
   "metadata": {},
   "outputs": [
    {
     "name": "stdout",
     "output_type": "stream",
     "text": [
      "<class 'pandas.core.frame.DataFrame'>\n",
      "RangeIndex: 30 entries, 0 to 29\n",
      "Data columns (total 2 columns):\n",
      " #   Column   Non-Null Count  Dtype\n",
      "---  ------   --------------  -----\n",
      " 0   Peso     30 non-null     int64\n",
      " 1   Consumo  30 non-null     int64\n",
      "dtypes: int64(2)\n",
      "memory usage: 612.0 bytes\n"
     ]
    }
   ],
   "source": [
    "datos.info()"
   ]
  },
  {
   "cell_type": "markdown",
   "id": "e2afc372",
   "metadata": {},
   "source": [
    "Grafica de dispercion"
   ]
  },
  {
   "cell_type": "code",
   "execution_count": 5,
   "id": "e20d897e",
   "metadata": {},
   "outputs": [
    {
     "data": {
      "text/plain": [
       "Text(0.5, 1.0, 'Peso vs Consumo')"
      ]
     },
     "execution_count": 5,
     "metadata": {},
     "output_type": "execute_result"
    },
    {
     "data": {
      "image/png": "[encoded data removed]",
      "text/plain": [
       "<Figure size 800x500 with 1 Axes>"
      ]
     },
     "metadata": {},
     "output_type": "display_data"
    }
   ],
   "source": [
    "plt.scatter(x=datos['Peso'], y=datos['Consumo'], color='blue')\n",
    "plt.title('Peso vs Consumo')"
   ]
  },
  {
   "cell_type": "code",
   "execution_count": 6,
   "id": "d20f3512",
   "metadata": {},
   "outputs": [],
   "source": [
    "!pip install jinja2\n",
    "!pip install openpyxl"
   ]
  },
  {
   "cell_type": "code",
   "execution_count": 7,
   "id": "6826ea47",
   "metadata": {},
   "outputs": [
    {
     "data": {
      "text/html": [
       "<style type=\"text/css\">\n",
       "#T_02e65_row0_col0, #T_02e65_row1_col1 {\n",
       "  background-color: blue;\n",
       "}\n",
       "</style>\n",
       "<table id=\"T_02e65\">\n",
       "  <thead>\n",
       "    <tr>\n",
       "      <th class=\"blank level0\" >&nbsp;</th>\n",
       "      <th id=\"T_02e65_level0_col0\" class=\"col_heading level0 col0\" >Peso</th>\n",
       "      <th id=\"T_02e65_level0_col1\" class=\"col_heading level0 col1\" >Consumo</th>\n",
       "    </tr>\n",
       "  </thead>\n",
       "  <tbody>\n",
       "    <tr>\n",
       "      <th id=\"T_02e65_level0_row0\" class=\"row_heading level0 row0\" >Peso</th>\n",
       "      <td id=\"T_02e65_row0_col0\" class=\"data row0 col0\" >1.000000</td>\n",
       "      <td id=\"T_02e65_row0_col1\" class=\"data row0 col1\" >0.928509</td>\n",
       "    </tr>\n",
       "    <tr>\n",
       "      <th id=\"T_02e65_level0_row1\" class=\"row_heading level0 row1\" >Consumo</th>\n",
       "      <td id=\"T_02e65_row1_col0\" class=\"data row1 col0\" >0.928509</td>\n",
       "      <td id=\"T_02e65_row1_col1\" class=\"data row1 col1\" >1.000000</td>\n",
       "    </tr>\n",
       "  </tbody>\n",
       "</table>\n"
      ],
      "text/plain": [
       "<pandas.io.formats.style.Styler at 0x1c08d079a90>"
      ]
     },
     "execution_count": 7,
     "metadata": {},
     "output_type": "execute_result"
    }
   ],
   "source": [
    "#Correlacion entre las variables\n",
    "\n",
    "datos.corr().style.highlight_max(color=\"blue\")\n",
    "# #*-------------------------------------------------"
   ]
  },
  {
   "cell_type": "code",
   "execution_count": 8,
   "id": "e9ab693f",
   "metadata": {},
   "outputs": [
    {
     "data": {
      "text/plain": [
       "<Axes: >"
      ]
     },
     "execution_count": 8,
     "metadata": {},
     "output_type": "execute_result"
    },
    {
     "data": {
      "image/png": "[encoded data removed]",
      "text/plain": [
       "<Figure size 800x500 with 2 Axes>"
      ]
     },
     "metadata": {},
     "output_type": "display_data"
    }
   ],
   "source": [
    "sns.heatmap(datos.corr(), annot=True, cmap='coolwarm', center=0, linewidths=0.5, linecolor='black', fmt='.4f')"
   ]
  },
  {
   "cell_type": "markdown",
   "id": "da190d15",
   "metadata": {},
   "source": [
    "Ajuste Polinomico - overfiting (sobre ajuste)"
   ]
  },
  {
   "cell_type": "code",
   "execution_count": 9,
   "id": "dcbaa30f",
   "metadata": {},
   "outputs": [
    {
     "name": "stdout",
     "output_type": "stream",
     "text": [
      "Exactitud del modelo:  0.8678685590563143\n"
     ]
    },
    {
     "data": {
      "image/png": "[encoded data removed]",
      "text/plain": [
       "<Figure size 800x500 with 1 Axes>"
      ]
     },
     "metadata": {},
     "output_type": "display_data"
    }
   ],
   "source": [
    "\n",
    "x = datos[[\"Peso\"]]\n",
    "y = datos[[\"Consumo\"]]\n",
    "\n",
    "linea_ajuste(x, 'Peso', y, 'Consumo', 5)"
   ]
  },
  {
   "cell_type": "markdown",
   "id": "68548606",
   "metadata": {},
   "source": [
    "1. Trabajamos con todo el data set - 30 ejemplos\n",
    "\n"
   ]
  },
  {
   "cell_type": "code",
   "execution_count": 10,
   "id": "cd0b1ab4",
   "metadata": {},
   "outputs": [
    {
     "name": "stdout",
     "output_type": "stream",
     "text": [
      "Intercepto:  [-0.07126061]\n",
      "Pendiente:  [[0.01173069]]\n",
      "Coeficiente de determinacion:  0.8621293337804034\n"
     ]
    }
   ],
   "source": [
    "regresion = LinearRegression()\n",
    "regresion.fit(x, y)\n",
    "y_pred = regresion.predict(x)\n",
    "\n",
    "print('Intercepto: ', regresion.intercept_)\n",
    "print('Pendiente: ', regresion.coef_)\n",
    "print('Coeficiente de determinacion: ', regresion.score(x,y))"
   ]
  },
  {
   "cell_type": "markdown",
   "id": "c2f6a7e4",
   "metadata": {},
   "source": [
    "$$\\Large \\color{yellow}{\\hat{y} = -0.0713 + 0.0117 * x}$$\n",
    "$$\\Large \\color{green}{R^2 = 0.8621}"
   ]
  },
  {
   "cell_type": "code",
   "execution_count": 11,
   "id": "125901a8",
   "metadata": {},
   "outputs": [
    {
     "name": "stdout",
     "output_type": "stream",
     "text": [
      "MSE: 2.2218623809433677\n"
     ]
    },
    {
     "data": {
      "image/png": "[encoded data removed]",
      "text/plain": [
       "<Figure size 800x500 with 1 Axes>"
      ]
     },
     "metadata": {},
     "output_type": "display_data"
    }
   ],
   "source": [
    "#Graficamos el error del residuo\n",
    "dat = crear_dat(x, 'Peso', y, 'Consumo', y_pred)\n",
    "grafica_error(dat['Consumo'], dat['Estimacion'])\n"
   ]
  },
  {
   "cell_type": "code",
   "execution_count": 12,
   "id": "135a9551",
   "metadata": {},
   "outputs": [
    {
     "data": {
      "text/html": [
       "<div>\n",
       "<style scoped>\n",
       "    .dataframe tbody tr th:only-of-type {\n",
       "        vertical-align: middle;\n",
       "    }\n",
       "\n",
       "    .dataframe tbody tr th {\n",
       "        vertical-align: top;\n",
       "    }\n",
       "\n",
       "    .dataframe thead th {\n",
       "        text-align: right;\n",
       "    }\n",
       "</style>\n",
       "<table border=\"1\" class=\"dataframe\">\n",
       "  <thead>\n",
       "    <tr style=\"text-align: right;\">\n",
       "      <th></th>\n",
       "      <th>Peso</th>\n",
       "      <th>Consumo</th>\n",
       "      <th>Estimacion</th>\n",
       "      <th>Variacion</th>\n",
       "    </tr>\n",
       "  </thead>\n",
       "  <tbody>\n",
       "    <tr>\n",
       "      <th>0</th>\n",
       "      <td>981</td>\n",
       "      <td>11</td>\n",
       "      <td>11.436542</td>\n",
       "      <td>-0.436542</td>\n",
       "    </tr>\n",
       "    <tr>\n",
       "      <th>1</th>\n",
       "      <td>878</td>\n",
       "      <td>12</td>\n",
       "      <td>10.228281</td>\n",
       "      <td>1.771719</td>\n",
       "    </tr>\n",
       "    <tr>\n",
       "      <th>2</th>\n",
       "      <td>708</td>\n",
       "      <td>8</td>\n",
       "      <td>8.234064</td>\n",
       "      <td>-0.234064</td>\n",
       "    </tr>\n",
       "    <tr>\n",
       "      <th>3</th>\n",
       "      <td>1138</td>\n",
       "      <td>11</td>\n",
       "      <td>13.278259</td>\n",
       "      <td>-2.278259</td>\n",
       "    </tr>\n",
       "    <tr>\n",
       "      <th>4</th>\n",
       "      <td>1064</td>\n",
       "      <td>13</td>\n",
       "      <td>12.410188</td>\n",
       "      <td>0.589812</td>\n",
       "    </tr>\n",
       "    <tr>\n",
       "      <th>5</th>\n",
       "      <td>655</td>\n",
       "      <td>6</td>\n",
       "      <td>7.612338</td>\n",
       "      <td>-1.612338</td>\n",
       "    </tr>\n",
       "    <tr>\n",
       "      <th>6</th>\n",
       "      <td>1273</td>\n",
       "      <td>14</td>\n",
       "      <td>14.861902</td>\n",
       "      <td>-0.861902</td>\n",
       "    </tr>\n",
       "    <tr>\n",
       "      <th>7</th>\n",
       "      <td>1485</td>\n",
       "      <td>17</td>\n",
       "      <td>17.348807</td>\n",
       "      <td>-0.348807</td>\n",
       "    </tr>\n",
       "    <tr>\n",
       "      <th>8</th>\n",
       "      <td>1366</td>\n",
       "      <td>18</td>\n",
       "      <td>15.952855</td>\n",
       "      <td>2.047145</td>\n",
       "    </tr>\n",
       "    <tr>\n",
       "      <th>9</th>\n",
       "      <td>1351</td>\n",
       "      <td>18</td>\n",
       "      <td>15.776895</td>\n",
       "      <td>2.223105</td>\n",
       "    </tr>\n",
       "    <tr>\n",
       "      <th>10</th>\n",
       "      <td>1635</td>\n",
       "      <td>20</td>\n",
       "      <td>19.108410</td>\n",
       "      <td>0.891590</td>\n",
       "    </tr>\n",
       "    <tr>\n",
       "      <th>11</th>\n",
       "      <td>900</td>\n",
       "      <td>10</td>\n",
       "      <td>10.486356</td>\n",
       "      <td>-0.486356</td>\n",
       "    </tr>\n",
       "    <tr>\n",
       "      <th>12</th>\n",
       "      <td>888</td>\n",
       "      <td>7</td>\n",
       "      <td>10.345588</td>\n",
       "      <td>-3.345588</td>\n",
       "    </tr>\n",
       "    <tr>\n",
       "      <th>13</th>\n",
       "      <td>766</td>\n",
       "      <td>9</td>\n",
       "      <td>8.914444</td>\n",
       "      <td>0.085556</td>\n",
       "    </tr>\n",
       "    <tr>\n",
       "      <th>14</th>\n",
       "      <td>981</td>\n",
       "      <td>13</td>\n",
       "      <td>11.436542</td>\n",
       "      <td>1.563458</td>\n",
       "    </tr>\n",
       "    <tr>\n",
       "      <th>15</th>\n",
       "      <td>729</td>\n",
       "      <td>7</td>\n",
       "      <td>8.480409</td>\n",
       "      <td>-1.480409</td>\n",
       "    </tr>\n",
       "    <tr>\n",
       "      <th>16</th>\n",
       "      <td>1034</td>\n",
       "      <td>12</td>\n",
       "      <td>12.058268</td>\n",
       "      <td>-0.058268</td>\n",
       "    </tr>\n",
       "    <tr>\n",
       "      <th>17</th>\n",
       "      <td>1384</td>\n",
       "      <td>17</td>\n",
       "      <td>16.164008</td>\n",
       "      <td>0.835992</td>\n",
       "    </tr>\n",
       "    <tr>\n",
       "      <th>18</th>\n",
       "      <td>776</td>\n",
       "      <td>12</td>\n",
       "      <td>9.031751</td>\n",
       "      <td>2.968249</td>\n",
       "    </tr>\n",
       "    <tr>\n",
       "      <th>19</th>\n",
       "      <td>835</td>\n",
       "      <td>10</td>\n",
       "      <td>9.723862</td>\n",
       "      <td>0.276138</td>\n",
       "    </tr>\n",
       "    <tr>\n",
       "      <th>20</th>\n",
       "      <td>650</td>\n",
       "      <td>9</td>\n",
       "      <td>7.553685</td>\n",
       "      <td>1.446315</td>\n",
       "    </tr>\n",
       "    <tr>\n",
       "      <th>21</th>\n",
       "      <td>956</td>\n",
       "      <td>12</td>\n",
       "      <td>11.143274</td>\n",
       "      <td>0.856726</td>\n",
       "    </tr>\n",
       "    <tr>\n",
       "      <th>22</th>\n",
       "      <td>688</td>\n",
       "      <td>8</td>\n",
       "      <td>7.999451</td>\n",
       "      <td>0.000549</td>\n",
       "    </tr>\n",
       "    <tr>\n",
       "      <th>23</th>\n",
       "      <td>716</td>\n",
       "      <td>7</td>\n",
       "      <td>8.327910</td>\n",
       "      <td>-1.327910</td>\n",
       "    </tr>\n",
       "    <tr>\n",
       "      <th>24</th>\n",
       "      <td>608</td>\n",
       "      <td>7</td>\n",
       "      <td>7.060996</td>\n",
       "      <td>-0.060996</td>\n",
       "    </tr>\n",
       "    <tr>\n",
       "      <th>25</th>\n",
       "      <td>802</td>\n",
       "      <td>11</td>\n",
       "      <td>9.336749</td>\n",
       "      <td>1.663251</td>\n",
       "    </tr>\n",
       "    <tr>\n",
       "      <th>26</th>\n",
       "      <td>1578</td>\n",
       "      <td>18</td>\n",
       "      <td>18.439761</td>\n",
       "      <td>-0.439761</td>\n",
       "    </tr>\n",
       "    <tr>\n",
       "      <th>27</th>\n",
       "      <td>688</td>\n",
       "      <td>7</td>\n",
       "      <td>7.999451</td>\n",
       "      <td>-0.999451</td>\n",
       "    </tr>\n",
       "    <tr>\n",
       "      <th>28</th>\n",
       "      <td>1461</td>\n",
       "      <td>17</td>\n",
       "      <td>17.067270</td>\n",
       "      <td>-0.067270</td>\n",
       "    </tr>\n",
       "    <tr>\n",
       "      <th>29</th>\n",
       "      <td>1556</td>\n",
       "      <td>15</td>\n",
       "      <td>18.181686</td>\n",
       "      <td>-3.181686</td>\n",
       "    </tr>\n",
       "  </tbody>\n",
       "</table>\n",
       "</div>"
      ],
      "text/plain": [
       "    Peso  Consumo  Estimacion  Variacion\n",
       "0    981       11   11.436542  -0.436542\n",
       "1    878       12   10.228281   1.771719\n",
       "2    708        8    8.234064  -0.234064\n",
       "3   1138       11   13.278259  -2.278259\n",
       "4   1064       13   12.410188   0.589812\n",
       "5    655        6    7.612338  -1.612338\n",
       "6   1273       14   14.861902  -0.861902\n",
       "7   1485       17   17.348807  -0.348807\n",
       "8   1366       18   15.952855   2.047145\n",
       "9   1351       18   15.776895   2.223105\n",
       "10  1635       20   19.108410   0.891590\n",
       "11   900       10   10.486356  -0.486356\n",
       "12   888        7   10.345588  -3.345588\n",
       "13   766        9    8.914444   0.085556\n",
       "14   981       13   11.436542   1.563458\n",
       "15   729        7    8.480409  -1.480409\n",
       "16  1034       12   12.058268  -0.058268\n",
       "17  1384       17   16.164008   0.835992\n",
       "18   776       12    9.031751   2.968249\n",
       "19   835       10    9.723862   0.276138\n",
       "20   650        9    7.553685   1.446315\n",
       "21   956       12   11.143274   0.856726\n",
       "22   688        8    7.999451   0.000549\n",
       "23   716        7    8.327910  -1.327910\n",
       "24   608        7    7.060996  -0.060996\n",
       "25   802       11    9.336749   1.663251\n",
       "26  1578       18   18.439761  -0.439761\n",
       "27   688        7    7.999451  -0.999451\n",
       "28  1461       17   17.067270  -0.067270\n",
       "29  1556       15   18.181686  -3.181686"
      ]
     },
     "execution_count": 12,
     "metadata": {},
     "output_type": "execute_result"
    }
   ],
   "source": [
    "\n",
    "dat[(dat['Variacion'] <= -2.22) | (dat['Peso'] >= -2.22)]"
   ]
  },
  {
   "cell_type": "markdown",
   "id": "45a2aaeb",
   "metadata": {},
   "source": [
    "Separamos en datos de entrenamiento y prueba"
   ]
  },
  {
   "cell_type": "code",
   "execution_count": 13,
   "id": "e336bd36",
   "metadata": {},
   "outputs": [
    {
     "name": "stdout",
     "output_type": "stream",
     "text": [
      "Tamaño del conjunto de entrenamiento: 24\n",
      "Tamaño del conjunto de prueba: 6\n"
     ]
    }
   ],
   "source": [
    "# Dividimos los datos en entrenamiento y prueba\n",
    "x_train, x_test, y_train, y_test = tts(x, y, test_size=0.2, random_state=42)\n",
    "\n",
    "print(\"Tamaño del conjunto de entrenamiento:\", len(x_train))\n",
    "print(\"Tamaño del conjunto de prueba:\", len(x_test))"
   ]
  },
  {
   "cell_type": "code",
   "execution_count": 14,
   "id": "0b762b87",
   "metadata": {},
   "outputs": [
    {
     "name": "stdout",
     "output_type": "stream",
     "text": [
      "Coeficiente de determinación (R^2) en prueba: 0.8649297177982919\n"
     ]
    }
   ],
   "source": [
    "\n",
    "regresion = LinearRegression()\n",
    "regresion.fit(x_train, y_train)\n",
    "\n",
    "\n",
    "y_pred_test = regresion.predict(x_test)\n",
    "\n",
    "\n",
    "r2_test = r2_score(y_test, y_pred_test)\n",
    "\n",
    "\n",
    "print(\"Coeficiente de determinación (R^2) en prueba:\", r2_test)\n"
   ]
  }
 ],
 "metadata": {
  "kernelspec": {
   "display_name": ".venv",
   "language": "python",
   "name": "python3"
  },
  "language_info": {
   "codemirror_mode": {
    "name": "ipython",
    "version": 3
   },
   "file_extension": ".py",
   "mimetype": "text/x-python",
   "name": "python",
   "nbconvert_exporter": "python",
   "pygments_lexer": "ipython3",
   "version": "3.13.7"
  },
  "widgets": {
   "application/vnd.jupyter.widget-state+json": {
    "state": {},
    "version_major": 2,
    "version_minor": 0
   }
  }
 },
 "nbformat": 4,
 "nbformat_minor": 5
}
